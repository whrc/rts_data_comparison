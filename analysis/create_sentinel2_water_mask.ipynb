{
 "cells": [
  {
   "cell_type": "code",
   "execution_count": null,
   "id": "10bac98d",
   "metadata": {},
   "outputs": [],
   "source": [
    "import ee\n",
    "ee.Initialize()"
   ]
  },
  {
   "cell_type": "code",
   "execution_count": null,
   "id": "428003df",
   "metadata": {},
   "outputs": [],
   "source": [
    "import geemap\n",
    "from pprint import pprint\n",
    "import numpy as np\n",
    "import pandas as pd\n",
    "import geopandas as gpd\n",
    "import xarray as xr\n",
    "import rioxarray as rxr\n",
    "import shapely as shp\n",
    "import os\n",
    "import re\n",
    "import string\n",
    "import math"
   ]
  },
  {
   "cell_type": "code",
   "execution_count": null,
   "id": "273bcb4c",
   "metadata": {},
   "outputs": [],
   "source": [
    "def geometryToEE(img_geometry):\n",
    "    \n",
    "    # format geometry\n",
    "#     img_geometry = gpd.GeoDataFrame(geometry = img_geometry)\n",
    "    print(img_geometry)\n",
    "    img_geometry = img_geometry.reset_index(drop = True)\n",
    "    img_geometry = [[[x, y] for x, y in list(img_geometry.geometry.exterior[0].coords)]]\n",
    "    \n",
    "    # convert geometry to ee.Geometry\n",
    "    img_geometry_ee = ee.Geometry({\n",
    "        'type': 'Polygon',\n",
    "        'coordinates': img_geometry\n",
    "    })\n",
    "    \n",
    "    return img_geometry_ee"
   ]
  },
  {
   "cell_type": "code",
   "execution_count": null,
   "id": "360a684c",
   "metadata": {},
   "outputs": [],
   "source": [
    "# Read in RTS test tiles\n",
    "tiles = gpd.read_file('../data/rts_polygons/all_tiles.shp')\n",
    "tiles = tiles.to_crs(4326)\n",
    "\n",
    "aoi = tiles.geometry.bounds.iloc[0]\n",
    "print(aoi)\n",
    "aoi = ee.Geometry({\n",
    "        'type': 'Polygon',\n",
    "        'coordinates': [\n",
    "            [\n",
    "                [aoi[0], aoi[2]],\n",
    "                [aoi[1], aoi[2]],\n",
    "                [aoi[1], aoi[3]],\n",
    "                [aoi[0], aoi[3]],\n",
    "                [aoi[0], aoi[2]]\n",
    "                        ]\n",
    "        ]\n",
    "    })\n",
    "print(aoi.getInfo())\n",
    "\n",
    "tiles"
   ]
  },
  {
   "cell_type": "code",
   "execution_count": null,
   "id": "07b13283",
   "metadata": {},
   "outputs": [],
   "source": [
    "# Prep Map\n",
    "Map = geemap.Map()\n",
    "Map.centerObject(aoi);"
   ]
  },
  {
   "cell_type": "code",
   "execution_count": null,
   "id": "3fc33f10",
   "metadata": {},
   "outputs": [],
   "source": [
    "# Get Sentinel-2 Mosaic to Align Planet Data\n",
    "MAX_CLOUD_PROBABILITY = 50\n",
    "# geometry = ee.Geometry({\n",
    "#     'type': 'Polygon',\n",
    "#     'coordinates': [[\n",
    "#         [66, 66],\n",
    "#         [66, 73.5],\n",
    "#         [85, 73.5],\n",
    "#         [85, 66],\n",
    "#         [66, 66]\n",
    "#         ]]\n",
    "# })\n",
    "\n",
    "s2 = (\n",
    "    ee.ImageCollection('COPERNICUS/S2_SR_HARMONIZED')\n",
    "#     .filterBounds(geometry)\n",
    "    .filterDate('2018-06-15', '2019-08-31')\n",
    "    .filter(ee.Filter.dayOfYear(182, 243))\n",
    ");\n",
    "\n",
    "s2_clouds = (\n",
    "    ee.ImageCollection('COPERNICUS/S2_CLOUD_PROBABILITY')\n",
    "#     .filterBounds(geometry)\n",
    "    .filterDate('2018-06-15', '2019-08-31')\n",
    "    .filter(ee.Filter.dayOfYear(182, 243))\n",
    ");\n",
    "\n",
    "def s2_maskcloud(image):\n",
    "    \n",
    "    clouds = ee.Image(image.get('cloud_mask')).select('probability')\n",
    "    \n",
    "    isNotCloud = clouds.lt(MAX_CLOUD_PROBABILITY)\n",
    "    \n",
    "    return image.updateMask(isNotCloud)\n",
    "\n",
    "# Join S2 SR with cloud probability dataset to add cloud mask.\n",
    "s2_with_clouds = ee.Join.saveFirst('cloud_mask').apply(    \n",
    "  primary=s2,\n",
    "  secondary=s2_clouds,\n",
    "  condition=ee.Filter.equals(leftField='system:index', rightField='system:index'))\n",
    "\n",
    "s2_masked = ee.ImageCollection(s2_with_clouds).map(s2_maskcloud)\n",
    "\n",
    "# s2_masked_north = s2_masked.filter(ee.Filter.dayOfYear(196, 243))\n",
    "\n",
    "def s2_water_mask(image):\n",
    "    return image.select('SCL').eq(6)\n",
    "\n",
    "s2_water_median = (\n",
    "    s2_masked.map(s2_water_mask)\n",
    "    .median()\n",
    ");\n",
    "\n",
    "s2_water_max = (\n",
    "    s2_masked.map(s2_water_mask)\n",
    "    .max()\n",
    ");\n",
    "s2_water = s2_water_median.addBands(s2_water_max)\n",
    "\n",
    "s2_mosaic = (\n",
    "    s2_masked\n",
    "    .select(['B2', 'B3', 'B4', 'B8'])\n",
    "    .median());\n",
    "\n",
    "# s2_mosaic_north = (\n",
    "#     s2_masked_north\n",
    "#     .select(['B2', 'B3', 'B4', 'B8'])\n",
    "#     .median());\n",
    "\n",
    "pprint(s2_water.getInfo())"
   ]
  },
  {
   "cell_type": "code",
   "execution_count": null,
   "id": "08d381f4",
   "metadata": {},
   "outputs": [],
   "source": [
    "Map.addLayer(s2_mosaic.clip(aoi), \n",
    "             {'bands':['B4', 'B3', 'B2'], 'min':0, 'max':1000}, \n",
    "             'S2 All Years')\n",
    "Map.addLayer(s2_water_median.clip(aoi), \n",
    "             {'min':0, 'max':1}, \n",
    "             'S2 Water (Median)')\n",
    "Map.addLayer(s2_water_max.clip(aoi), \n",
    "             {'min':0, 'max':1}, \n",
    "             'S2 Water (Max)')\n",
    "Map.addLayer(s2_water.clip(aoi), \n",
    "             {'min':0, 'max':1}, \n",
    "             'S2 Water')"
   ]
  },
  {
   "cell_type": "code",
   "execution_count": null,
   "id": "243f7cd7",
   "metadata": {},
   "outputs": [],
   "source": [
    "Map"
   ]
  },
  {
   "cell_type": "code",
   "execution_count": null,
   "id": "b3c5d750",
   "metadata": {},
   "outputs": [],
   "source": [
    "for index, row in tiles.iterrows():\n",
    "    polygon_id = row.id\n",
    "    name = 'Sentinel-2_water_mask_' + row.imagery + str(row.id)\n",
    "    img_geometry = [[[x, y] for x, y in list(row.geometry.exterior.coords)]]\n",
    "    crs = 'EPSG:' + str(3413)\n",
    "   \n",
    "    # Export 2018-2019 growing season Sentinel-2 Mosaic to Drive\n",
    "    task = ee.batch.Export.image.toDrive(\n",
    "        image = s2_water.toFloat(),\n",
    "        description = name,\n",
    "        folder = 'Earth Engine Exports',\n",
    "        crs = crs,\n",
    "        scale = 10,\n",
    "        maxPixels = 1e13,\n",
    "        region = img_geometry,\n",
    "        fileFormat = 'GeoTIFF'\n",
    "    )\n",
    "    task.start()"
   ]
  }
 ],
 "metadata": {
  "kernelspec": {
   "display_name": "Python 3 (ipykernel)",
   "language": "python",
   "name": "python3"
  },
  "language_info": {
   "codemirror_mode": {
    "name": "ipython",
    "version": 3
   },
   "file_extension": ".py",
   "mimetype": "text/x-python",
   "name": "python",
   "nbconvert_exporter": "python",
   "pygments_lexer": "ipython3",
   "version": "3.8.13"
  },
  "varInspector": {
   "cols": {
    "lenName": 16,
    "lenType": 16,
    "lenVar": 40
   },
   "kernels_config": {
    "python": {
     "delete_cmd_postfix": "",
     "delete_cmd_prefix": "del ",
     "library": "var_list.py",
     "varRefreshCmd": "print(var_dic_list())"
    },
    "r": {
     "delete_cmd_postfix": ") ",
     "delete_cmd_prefix": "rm(",
     "library": "var_list.r",
     "varRefreshCmd": "cat(var_dic_list()) "
    }
   },
   "types_to_exclude": [
    "module",
    "function",
    "builtin_function_or_method",
    "instance",
    "_Feature"
   ],
   "window_display": false
  }
 },
 "nbformat": 4,
 "nbformat_minor": 5
}
